{
 "cells": [
  {
   "cell_type": "code",
   "execution_count": 21,
   "metadata": {},
   "outputs": [],
   "source": [
    "class Patient:\n",
    "    \n",
    "    def __init__(self, fname, age, city):\n",
    "        self.name = fname\n",
    "        self.age = age\n",
    "        self.city = city\n",
    "\n",
    "\n",
    "pid001 = Patient(\"Bilal\", 20, \"Karachi\")\n",
    "pid002 = Patient(\"Saad\", 15, \"Islamabad\")\n",
    "\n",
    "    "
   ]
  },
  {
   "cell_type": "code",
   "execution_count": 19,
   "metadata": {},
   "outputs": [
    {
     "data": {
      "text/plain": [
       "20"
      ]
     },
     "execution_count": 19,
     "metadata": {},
     "output_type": "execute_result"
    }
   ],
   "source": [
    "pid001.age"
   ]
  },
  {
   "cell_type": "code",
   "execution_count": 20,
   "metadata": {},
   "outputs": [
    {
     "data": {
      "text/plain": [
       "'Islamabad'"
      ]
     },
     "execution_count": 20,
     "metadata": {},
     "output_type": "execute_result"
    }
   ],
   "source": [
    "pid002.city"
   ]
  },
  {
   "cell_type": "code",
   "execution_count": 6,
   "metadata": {},
   "outputs": [
    {
     "name": "stdout",
     "output_type": "stream",
     "text": [
      "Bilal 20 Karachi\n"
     ]
    }
   ],
   "source": [
    "print(pid001.name, pid001.age, pid001.city)"
   ]
  },
  {
   "cell_type": "code",
   "execution_count": 12,
   "metadata": {},
   "outputs": [
    {
     "name": "stdout",
     "output_type": "stream",
     "text": [
      "Bilal\n",
      "Saad\n"
     ]
    }
   ],
   "source": [
    "print(pid001.name)\n",
    "print(pid002.name)"
   ]
  },
  {
   "cell_type": "code",
   "execution_count": 9,
   "metadata": {},
   "outputs": [
    {
     "data": {
      "text/plain": [
       "20"
      ]
     },
     "execution_count": 9,
     "metadata": {},
     "output_type": "execute_result"
    }
   ],
   "source": [
    "pid001.age\n"
   ]
  },
  {
   "cell_type": "code",
   "execution_count": 13,
   "metadata": {},
   "outputs": [
    {
     "data": {
      "text/plain": [
       "'Karachi'"
      ]
     },
     "execution_count": 13,
     "metadata": {},
     "output_type": "execute_result"
    }
   ],
   "source": [
    "pid001.city"
   ]
  },
  {
   "cell_type": "code",
   "execution_count": 42,
   "metadata": {},
   "outputs": [],
   "source": [
    "class Vehicle:\n",
    "    \n",
    "    def __init__(self, fname, fmodel, fcolor):\n",
    "        self.name = fname\n",
    "        self.model = fmodel\n",
    "        self.color = fcolor      \n",
    "        \n",
    "class Car(Vehicle):\n",
    "    pass\n",
    "\n",
    "class Bus(Vehicle):\n",
    "    pass\n",
    "\n",
    "class MotorBike(Vehicle):\n",
    "    pass\n",
    "\n",
    "audi = Car(\"Audi\", 2015, \"White\")\n",
    "school_van = Bus(\"School_Van\", 2000, \"Blue\")\n",
    "\n",
    "honda = MotorBike(\"Honda\", 2017, \"Black\")"
   ]
  },
  {
   "cell_type": "code",
   "execution_count": 45,
   "metadata": {},
   "outputs": [
    {
     "data": {
      "text/plain": [
       "'Audi'"
      ]
     },
     "execution_count": 45,
     "metadata": {},
     "output_type": "execute_result"
    }
   ],
   "source": [
    "audi.name"
   ]
  },
  {
   "cell_type": "code",
   "execution_count": 26,
   "metadata": {},
   "outputs": [
    {
     "data": {
      "text/plain": [
       "2000"
      ]
     },
     "execution_count": 26,
     "metadata": {},
     "output_type": "execute_result"
    }
   ],
   "source": [
    "school_bus.model"
   ]
  },
  {
   "cell_type": "code",
   "execution_count": 48,
   "metadata": {},
   "outputs": [
    {
     "name": "stdout",
     "output_type": "stream",
     "text": [
      "Number of Guesses is limited to only 5 times\n",
      "Guess the number: \n",
      "10\n",
      "you enter less number please input greater number. \n",
      "\n",
      "4 no. of guesses left\n",
      "Guess the number: \n",
      "20\n",
      "you enter greater number please input smaller number. \n",
      "\n",
      "3 no. of guesses left\n",
      "Guess the number: \n",
      "15\n",
      "you enter less number please input greater number. \n",
      "\n",
      "2 no. of guesses left\n",
      "Guess the number: \n",
      "19\n",
      "you enter greater number please input smaller number. \n",
      "\n",
      "1 no. of guesses left\n",
      "Guess the number: \n",
      "18\n",
      "You Won \n",
      "\n",
      "5 no. of guesses he took to finish.\n"
     ]
    }
   ],
   "source": [
    "#Game\n",
    "#18\n",
    "\n",
    "number_of_guesses=1\n",
    "print(\"Number of Guesses is limited to only 5 times\")\n",
    "while (number_of_guesses<=5):\n",
    "    guess_number = int(input(\"Guess the number: \\n\"))\n",
    "    if guess_number < 18:\n",
    "        print(\"you enter less number please input greater number. \\n\")\n",
    "    elif (guess_number >18):\n",
    "        print(\"you enter greater number please input smaller number. \\n\")\n",
    "    else:\n",
    "        print(\"You Won \\n\")\n",
    "        print(number_of_guesses, \"no. of guesses he took to finish.\")\n",
    "        break\n",
    "    print(5-number_of_guesses, \"no. of guesses left\")\n",
    "    number_of_guesses = number_of_guesses + 1\n",
    "    \n",
    "if(number_of_guesses>5):\n",
    "    print(\"Game Over\")\n",
    "    "
   ]
  },
  {
   "cell_type": "markdown",
   "metadata": {},
   "source": [
    "# Data Files"
   ]
  },
  {
   "cell_type": "code",
   "execution_count": 49,
   "metadata": {},
   "outputs": [],
   "source": [
    "#Mode\n",
    "#w for Write\n",
    "#r for Read\n",
    "#a for Append\n",
    "\n",
    "with open(\"aps.txt\", \"w\") as file:\n",
    "    file.write(\"Army Public School\")\n",
    "    \n"
   ]
  },
  {
   "cell_type": "code",
   "execution_count": 50,
   "metadata": {},
   "outputs": [],
   "source": [
    "#w for Write\n",
    "with open(\"Abdullah.txt\", \"w\") as f:\n",
    "    f.write(\"Abdullah Pakistani\")\n",
    "    "
   ]
  },
  {
   "cell_type": "code",
   "execution_count": 55,
   "metadata": {},
   "outputs": [
    {
     "name": "stdout",
     "output_type": "stream",
     "text": [
      "Abdullah Pakistani\n"
     ]
    }
   ],
   "source": [
    "#r for Read\n",
    "with open(\"Abdullah.txt\", \"a\") as file:\n",
    "    \n",
    "    my_text = file.read()\n",
    "\n",
    "\n",
    "print(my_text)   \n"
   ]
  },
  {
   "cell_type": "code",
   "execution_count": 59,
   "metadata": {},
   "outputs": [],
   "source": [
    "#a for Append\n",
    "\n",
    "with open(\"aps.txt\", \"a\") as file:\n",
    "    file.write(\"\\nKarachi, Pakistan\")"
   ]
  },
  {
   "cell_type": "code",
   "execution_count": 60,
   "metadata": {},
   "outputs": [
    {
     "name": "stdout",
     "output_type": "stream",
     "text": [
      "Army Public School\n",
      " Saylani Mass IT Training\n",
      "Karachi, Pakistan\n"
     ]
    }
   ],
   "source": [
    "#r for Read\n",
    "with open(\"aps.txt\", \"r\") as file:\n",
    "    \n",
    "    my_text = file.read()\n",
    "\n",
    "print(my_text)   "
   ]
  },
  {
   "cell_type": "code",
   "execution_count": null,
   "metadata": {},
   "outputs": [],
   "source": []
  },
  {
   "cell_type": "code",
   "execution_count": null,
   "metadata": {},
   "outputs": [],
   "source": []
  }
 ],
 "metadata": {
  "kernelspec": {
   "display_name": "Python 3",
   "language": "python",
   "name": "python3"
  },
  "language_info": {
   "codemirror_mode": {
    "name": "ipython",
    "version": 3
   },
   "file_extension": ".py",
   "mimetype": "text/x-python",
   "name": "python",
   "nbconvert_exporter": "python",
   "pygments_lexer": "ipython3",
   "version": "3.8.3"
  }
 },
 "nbformat": 4,
 "nbformat_minor": 4
}
