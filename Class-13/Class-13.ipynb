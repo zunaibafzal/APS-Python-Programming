{
 "cells": [
  {
   "cell_type": "code",
   "execution_count": 3,
   "metadata": {},
   "outputs": [],
   "source": [
    "import csv"
   ]
  },
  {
   "cell_type": "code",
   "execution_count": 15,
   "metadata": {},
   "outputs": [],
   "source": [
    "with open(\"myfiles.csv\", \"w\") as file:\n",
    "    \n",
    "    content = csv.writer(file)\n",
    "    \n",
    "    content.writerow([\"Ahmed\", \"Aimen\", \"Amna\"])    "
   ]
  },
  {
   "cell_type": "code",
   "execution_count": 16,
   "metadata": {},
   "outputs": [
    {
     "name": "stdout",
     "output_type": "stream",
     "text": [
      "['Ahmed', 'Aimen', 'Amna']\n",
      "[]\n"
     ]
    }
   ],
   "source": [
    "with open(\"myfiles.csv\", \"r\") as file:\n",
    "    \n",
    "    content = csv.reader(file)\n",
    "    \n",
    "    for i in content:\n",
    "        print(i)"
   ]
  },
  {
   "cell_type": "code",
   "execution_count": 17,
   "metadata": {},
   "outputs": [],
   "source": [
    "with open(\"myfiles.csv\", \"a\") as file:\n",
    "    \n",
    "    content = csv.writer(file)\n",
    "    \n",
    "    content.writerow([\"Zunaib\", \"Bilal\", \"Areesha\"])   "
   ]
  },
  {
   "cell_type": "code",
   "execution_count": 18,
   "metadata": {},
   "outputs": [
    {
     "name": "stdout",
     "output_type": "stream",
     "text": [
      "['Ahmed', 'Aimen', 'Amna']\n",
      "[]\n",
      "['Zunaib', 'Bilal', 'Areesha']\n",
      "[]\n"
     ]
    }
   ],
   "source": [
    "with open(\"myfiles.csv\", \"r\") as file:\n",
    "    \n",
    "    content = csv.reader(file)\n",
    "    \n",
    "    for i in content:\n",
    "        print(i)"
   ]
  },
  {
   "cell_type": "code",
   "execution_count": 19,
   "metadata": {},
   "outputs": [],
   "source": [
    "import json"
   ]
  },
  {
   "cell_type": "code",
   "execution_count": 20,
   "metadata": {},
   "outputs": [],
   "source": [
    "#JSON File = for write text Dump()\n",
    "\n",
    "with open(\"myfiles.json\", \"w\") as file:\n",
    "    json.dump(\"Karachi\", file)\n",
    "    "
   ]
  },
  {
   "cell_type": "code",
   "execution_count": null,
   "metadata": {},
   "outputs": [],
   "source": [
    "#Data File = write() and read()\n",
    "\n",
    "#CSV File = writer() => writerow()\n",
    "#CSV File = reader()\n",
    "\n",
    "#JSON File = for write text Dump()\n",
    "#JSON File = for read text load()"
   ]
  },
  {
   "cell_type": "code",
   "execution_count": 21,
   "metadata": {},
   "outputs": [
    {
     "name": "stdout",
     "output_type": "stream",
     "text": [
      "Karachi\n"
     ]
    }
   ],
   "source": [
    "#JSON File = for read text load()\n",
    "\n",
    "with open(\"myfiles.json\", \"r\") as file:\n",
    "    content = json.load(file)\n",
    "    \n",
    "    print(content)"
   ]
  },
  {
   "cell_type": "code",
   "execution_count": 22,
   "metadata": {},
   "outputs": [],
   "source": [
    "#JSON File = for write text Dump()\n",
    "\n",
    "cities = [\"Karachi\", \"Lahore\", \"Multan\", \"Islamabad\"]\n",
    "\n",
    "with open(\"myfiles.json\", \"w\") as file:\n",
    "    json.dump(cities, file) \n",
    "        "
   ]
  },
  {
   "cell_type": "code",
   "execution_count": 23,
   "metadata": {},
   "outputs": [
    {
     "name": "stdout",
     "output_type": "stream",
     "text": [
      "['Karachi', 'Lahore', 'Multan', 'Islamabad']\n"
     ]
    }
   ],
   "source": [
    "#JSON File = for read text load()\n",
    "\n",
    "with open(\"myfiles.json\", \"r\") as file:\n",
    "    content = json.load(file)\n",
    "    \n",
    "    print(content)\n",
    "    "
   ]
  },
  {
   "cell_type": "code",
   "execution_count": 24,
   "metadata": {},
   "outputs": [],
   "source": [
    "#JSON File = for write text Dump()\n",
    "\n",
    "students = {\n",
    "              \"first name\": \"Zunaib\",\n",
    "              \"last name\": \"Afzal\",\n",
    "              \"address\": \"Karachi, Pakistan\"\n",
    "            }\n",
    "\n",
    "with open(\"myfiles.json\", \"w\") as file:\n",
    "    json.dump(students, file) \n",
    "\n"
   ]
  },
  {
   "cell_type": "code",
   "execution_count": 25,
   "metadata": {},
   "outputs": [
    {
     "name": "stdout",
     "output_type": "stream",
     "text": [
      "{'first name': 'Zunaib', 'last name': 'Afzal', 'address': 'Karachi, Pakistan'}\n"
     ]
    }
   ],
   "source": [
    "with open(\"myfiles.json\", \"r\") as file:\n",
    "    content = json.load(file)\n",
    "    \n",
    "    print(content)"
   ]
  },
  {
   "cell_type": "code",
   "execution_count": 29,
   "metadata": {},
   "outputs": [
    {
     "name": "stdout",
     "output_type": "stream",
     "text": [
      "Write First Number: 50\n",
      "Write 2nd Number: Ibrahim\n",
      "You Entered Wrong Values\n"
     ]
    }
   ],
   "source": [
    "try:    \n",
    "    a = int(input(\"Write First Number: \"))\n",
    "    b = int(input(\"Write 2nd Number: \"))\n",
    "    print(a + b)\n",
    "    \n",
    "except:\n",
    "    print(\"You Entered Wrong Values\")"
   ]
  },
  {
   "cell_type": "code",
   "execution_count": null,
   "metadata": {},
   "outputs": [],
   "source": []
  },
  {
   "cell_type": "code",
   "execution_count": null,
   "metadata": {},
   "outputs": [],
   "source": []
  }
 ],
 "metadata": {
  "kernelspec": {
   "display_name": "Python 3",
   "language": "python",
   "name": "python3"
  },
  "language_info": {
   "codemirror_mode": {
    "name": "ipython",
    "version": 3
   },
   "file_extension": ".py",
   "mimetype": "text/x-python",
   "name": "python",
   "nbconvert_exporter": "python",
   "pygments_lexer": "ipython3",
   "version": "3.8.3"
  }
 },
 "nbformat": 4,
 "nbformat_minor": 4
}
